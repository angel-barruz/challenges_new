{
 "cells": [
  {
   "cell_type": "code",
   "execution_count": null,
   "id": "2dc032fd",
   "metadata": {},
   "outputs": [],
   "source": [
    "#Kata Vowel Count\n",
    "\n",
    "def get_count(s):\n",
    "    vocales = 'aeiou'\n",
    "    lista_resultado = []\n",
    "    for elemento in s:\n",
    "        if elemento in vocales:\n",
    "            lista_resultado.append(elemento)\n",
    "    return len(lista_resultado)\n"
   ]
  },
  {
   "cell_type": "code",
   "execution_count": 19,
   "id": "444c48e4",
   "metadata": {},
   "outputs": [
    {
     "data": {
      "text/plain": [
       "6"
      ]
     },
     "execution_count": 19,
     "metadata": {},
     "output_type": "execute_result"
    }
   ],
   "source": [
    "get_count('a,e,i,o,u')\n"
   ]
  }
 ],
 "metadata": {
  "kernelspec": {
   "display_name": "Python [conda env:jp_env] *",
   "language": "python",
   "name": "conda-env-jp_env-py"
  },
  "language_info": {
   "codemirror_mode": {
    "name": "ipython",
    "version": 3
   },
   "file_extension": ".py",
   "mimetype": "text/x-python",
   "name": "python",
   "nbconvert_exporter": "python",
   "pygments_lexer": "ipython3",
   "version": "3.9.12"
  }
 },
 "nbformat": 4,
 "nbformat_minor": 5
}
