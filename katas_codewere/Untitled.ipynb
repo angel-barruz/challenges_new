{
 "cells": [
  {
   "cell_type": "code",
   "execution_count": 7,
   "id": "61649c50",
   "metadata": {},
   "outputs": [],
   "source": [
    "def sp_eng(sentence): \n",
    "    return 'ENGLISH' in sentence.upper()"
   ]
  },
  {
   "cell_type": "code",
   "execution_count": 6,
   "id": "56491887",
   "metadata": {},
   "outputs": [
    {
     "ename": "NameError",
     "evalue": "name 'ENGlish' is not defined",
     "output_type": "error",
     "traceback": [
      "\u001b[1;31m---------------------------------------------------------------------------\u001b[0m",
      "\u001b[1;31mNameError\u001b[0m                                 Traceback (most recent call last)",
      "Input \u001b[1;32mIn [6]\u001b[0m, in \u001b[0;36m<cell line: 1>\u001b[1;34m()\u001b[0m\n\u001b[1;32m----> 1\u001b[0m sp_eng(\u001b[43mENGlish\u001b[49m)\n",
      "\u001b[1;31mNameError\u001b[0m: name 'ENGlish' is not defined"
     ]
    }
   ],
   "source": [
    "sp_eng(ENGlish)"
   ]
  },
  {
   "cell_type": "code",
   "execution_count": null,
   "id": "f102b210",
   "metadata": {},
   "outputs": [],
   "source": []
  }
 ],
 "metadata": {
  "kernelspec": {
   "display_name": "Python [conda env:jp_env] *",
   "language": "python",
   "name": "conda-env-jp_env-py"
  },
  "language_info": {
   "codemirror_mode": {
    "name": "ipython",
    "version": 3
   },
   "file_extension": ".py",
   "mimetype": "text/x-python",
   "name": "python",
   "nbconvert_exporter": "python",
   "pygments_lexer": "ipython3",
   "version": "3.9.12"
  }
 },
 "nbformat": 4,
 "nbformat_minor": 5
}
