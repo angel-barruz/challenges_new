{
 "cells": [
  {
   "cell_type": "code",
   "execution_count": 1,
   "id": "739c848d",
   "metadata": {},
   "outputs": [],
   "source": [
    "#Balanced Numbers\n",
    "def balanced_num(number):\n",
    "    number = str(number)\n",
    "    leftsum = 0\n",
    "    rigthsum = 0\n",
    "    a = len(number)\n",
    "    print ('len', a)\n",
    "    if(a%2 == 0):\n",
    "        b = (a/2)-1\n",
    "    else:\n",
    "        b = a / 2\n",
    "    for i in range(0,int(b)):\n",
    "        leftsum = leftsum + int(number[i])\n",
    "        print (leftsum)\n",
    "        rigthsum = (rigthsum + int(number[len(number)-1-i]))\n",
    "        print (rigthsum)\n",
    "    if(leftsum == rigthsum):\n",
    "        print(\"balanced\", end = '\\n')\n",
    "    else:\n",
    "        print(\"Not balanced\", end = '\\n')\n"
   ]
  },
  {
   "cell_type": "code",
   "execution_count": 2,
   "id": "2fe6a57a",
   "metadata": {},
   "outputs": [
    {
     "name": "stdout",
     "output_type": "stream",
     "text": [
      "len 4\n",
      "4\n",
      "2\n",
      "Not balanced\n"
     ]
    }
   ],
   "source": [
    "balanced_num(4512)"
   ]
  },
  {
   "cell_type": "code",
   "execution_count": null,
   "id": "22a7cff2",
   "metadata": {},
   "outputs": [],
   "source": []
  }
 ],
 "metadata": {
  "kernelspec": {
   "display_name": "Python [conda env:jp_env] *",
   "language": "python",
   "name": "conda-env-jp_env-py"
  },
  "language_info": {
   "codemirror_mode": {
    "name": "ipython",
    "version": 3
   },
   "file_extension": ".py",
   "mimetype": "text/x-python",
   "name": "python",
   "nbconvert_exporter": "python",
   "pygments_lexer": "ipython3",
   "version": "3.9.12"
  }
 },
 "nbformat": 4,
 "nbformat_minor": 5
}
