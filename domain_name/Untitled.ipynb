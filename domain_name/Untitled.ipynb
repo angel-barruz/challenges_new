{
 "cells": [
  {
   "cell_type": "code",
   "execution_count": 2,
   "id": "db816936",
   "metadata": {},
   "outputs": [],
   "source": [
    "# Extract the domain name from a URL\n",
    "\n",
    "def domain_name(url):\n",
    "    url= url.replace(\"http://\", \"\")\n",
    "    url= url.replace(\"www.\", \"\")\n",
    "    url= url.replace(\"https://\", \"\")\n",
    "    \n",
    "    return url.split(\".\")[0]\n"
   ]
  },
  {
   "cell_type": "code",
   "execution_count": 6,
   "id": "efac7a82",
   "metadata": {},
   "outputs": [
    {
     "data": {
      "text/plain": [
       "'ironhack'"
      ]
     },
     "execution_count": 6,
     "metadata": {},
     "output_type": "execute_result"
    }
   ],
   "source": [
    "domain_name(\"www.ironhack.com\")"
   ]
  },
  {
   "cell_type": "code",
   "execution_count": null,
   "id": "908da76a",
   "metadata": {},
   "outputs": [],
   "source": []
  }
 ],
 "metadata": {
  "kernelspec": {
   "display_name": "Python [conda env:jp_env] *",
   "language": "python",
   "name": "conda-env-jp_env-py"
  },
  "language_info": {
   "codemirror_mode": {
    "name": "ipython",
    "version": 3
   },
   "file_extension": ".py",
   "mimetype": "text/x-python",
   "name": "python",
   "nbconvert_exporter": "python",
   "pygments_lexer": "ipython3",
   "version": "3.9.12"
  }
 },
 "nbformat": 4,
 "nbformat_minor": 5
}
