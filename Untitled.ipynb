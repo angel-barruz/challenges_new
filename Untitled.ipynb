{
 "cells": [
  {
   "cell_type": "code",
   "execution_count": 20,
   "id": "5a045299",
   "metadata": {},
   "outputs": [],
   "source": [
    "# methods\n",
    "class User(object):\n",
    "    def __init__(self, name, balance, checking_account):\n",
    "        self.name = name\n",
    "        self.balance = balance\n",
    "        self.checking_account = checking_account\n",
    "        \n",
    "    def withdraw(self,money):\n",
    "        if self.balance<=money:\n",
    "            raise ValueError(\"nothing of money\")\n",
    "        else:\n",
    "            self.balance=self.balance-money\n",
    "            return  f'{self.name} has {self.balance}'\n",
    "        \n",
    "    def check (self,another_user,amount):\n",
    "        if another_user.checking_account==False:\n",
    "            raise ValueError(\"customer not active\")\n",
    "        else:\n",
    "            if another_user.balance>=amount:\n",
    "                self.balance=self.balance+amount\n",
    "                another_user.balance=another_user.balance+amount\n",
    "                return  f'{self.name} has {self.balance} and {another_user.name} has {another_user.balance}\"\n",
    "            else:\n",
    "                raise ValueError(\"doesn't have money\")\n",
    "        \n",
    "        \n",
    "        \n",
    "        \n",
    "    # def add_cash\n",
    "\n",
    "          "
   ]
  },
  {
   "cell_type": "code",
   "execution_count": 21,
   "id": "05e4283b",
   "metadata": {},
   "outputs": [],
   "source": [
    "Angel = User('Angel', 100, True)\n"
   ]
  },
  {
   "cell_type": "code",
   "execution_count": 22,
   "id": "7f299f40",
   "metadata": {},
   "outputs": [
    {
     "name": "stdout",
     "output_type": "stream",
     "text": [
      "Angel\n"
     ]
    }
   ],
   "source": [
    "print(Angel.name)"
   ]
  },
  {
   "cell_type": "code",
   "execution_count": 23,
   "id": "85756593",
   "metadata": {},
   "outputs": [
    {
     "name": "stdout",
     "output_type": "stream",
     "text": [
      "100\n"
     ]
    }
   ],
   "source": [
    "print(Angel.balance)"
   ]
  },
  {
   "cell_type": "code",
   "execution_count": 25,
   "id": "bc316a92",
   "metadata": {},
   "outputs": [
    {
     "data": {
      "text/plain": [
       "'Angel has 75'"
      ]
     },
     "execution_count": 25,
     "metadata": {},
     "output_type": "execute_result"
    }
   ],
   "source": [
    "Angel.withdraw(15)"
   ]
  },
  {
   "cell_type": "code",
   "execution_count": null,
   "id": "012c01e1",
   "metadata": {},
   "outputs": [],
   "source": []
  }
 ],
 "metadata": {
  "kernelspec": {
   "display_name": "Python [conda env:jp_env] *",
   "language": "python",
   "name": "conda-env-jp_env-py"
  },
  "language_info": {
   "codemirror_mode": {
    "name": "ipython",
    "version": 3
   },
   "file_extension": ".py",
   "mimetype": "text/x-python",
   "name": "python",
   "nbconvert_exporter": "python",
   "pygments_lexer": "ipython3",
   "version": "3.9.12"
  }
 },
 "nbformat": 4,
 "nbformat_minor": 5
}
