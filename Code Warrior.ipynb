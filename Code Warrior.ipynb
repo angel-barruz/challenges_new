{
 "cells": [
  {
   "cell_type": "code",
   "execution_count": 9,
   "id": "ed6bf058",
   "metadata": {},
   "outputs": [],
   "source": [
    "import re\n",
    "import bs4\n",
    "import requests"
   ]
  },
  {
   "cell_type": "code",
   "execution_count": null,
   "id": "fec64195",
   "metadata": {},
   "outputs": [],
   "source": [
    "username = Angel%20Barruz\n",
    "url_pattern ="
   ]
  },
  {
   "cell_type": "code",
   "execution_count": 11,
   "id": "193aeed6",
   "metadata": {},
   "outputs": [
    {
     "name": "stdout",
     "output_type": "stream",
     "text": [
      "Status code is: 200\n",
      "<class 'bytes'>\n"
     ]
    }
   ],
   "source": [
    "# Web Scraping\n",
    "url = 'https://www.codewars.com/users/Angel%20Barruz'\n",
    "response = requests.get(url)\n",
    "html = response.content\n",
    "print(f'Status code is: {response.status_code}')\n",
    "print(type(html))"
   ]
  },
  {
   "cell_type": "code",
   "execution_count": 13,
   "id": "eea9e400",
   "metadata": {},
   "outputs": [
    {
     "data": {
      "text/plain": [
       "<!DOCTYPE html>\n",
       "<html class=\"dark sl-theme-dark\" lang=\"en\"><head><meta charset=\"utf-8\"/>\n",
       "<script type=\"text/javascript\">window.NREUM||(NREUM={});NREUM.info={\"beacon\":\"bam.nr-data.net\",\"errorBeacon\":\"bam.nr-data.net\",\"licenseKey\":\"364dba19a3\",\"applicationID\":\"15446117\",\"transactionName\":\"Jg5ZQEdYXQ1XRRZAQQATRBtGX14W\",\"queueTime\":0,\"applicationTime\":170,\"agent\":\"\"}</script>\n",
       "<script type=\"text/javascript\">(window.NREUM||(NREUM={})).init={ajax:{deny_list:[\"bam.nr-data.net\"]}};(window.NREUM||(NREUM={})).loader_config={licenseKey:\"364dba19a3\",applicationID:\"15446117\"};window.NREUM||(NREUM={}),__nr_require=function(t,e,n){function r(n){if(!e[n]){var i=e[n]={exports:{}};t[n][0].call(i.exports,function(e){var i=t[n][1][e];return r(i||e)},i,i.exports)}return e[n].exports}if(\"function\"==typeof __nr_require)return __nr_require;for(var i=0;i<n.length;i++)r(n[i]);return r}({1:[function(t,e,n){function r(){}function i(t,e,n,r){return function(){return s.recordSupportability(\"API/\"+e+\"/called\"),o(t+e,[u.now()].concat(c(arguments)),n?null:this,r),n?void 0:this}}var o=t(\"handle\"),a=t(9),c=t(10),f=t(\"ee\").get(\"tracer\"),u=t(\"loader\"),s=t(4),d=NREUM;\"undefined\"==typeof window.newrelic&&(newrelic=d);var p=[\"setPageViewName\",\"setCustomAttribute\",\"setErrorHandler\",\"finished\",\"addToTrace\",\"inlineHit\",\"addRelease\"],l=\"api-\",v=l+\"ixn-\";a(p,function(t,e){d[e]=i(l,e,!0,\"api\")}),d.addPageAction=i(l,\"addPageAction\",!0),d.setCurrentRouteName=i(l,\"routeName\",!0),e.exports=newrelic,d.interaction=function(){return(new r).get()};var m=r.prototype={createTracer:function(t,e){var n={},r=this,i=\"function\"==typeof e;return o(v+\"tracer\",[u.now(),t,n],r),function(){if(f.emit((i?\"\":\"no-\")+\"fn-start\",[u.now(),r,i],n),i)try{return e.apply(this,arguments)}catch(t){throw f.emit(\"fn-err\",[arguments,this,t],n),t}finally{f.emit(\"fn-end\",[u.now()],n)}}}};a(\"actionText,setName,setAttribute,save,ignore,onEnd,getContext,end,get\".split(\",\"),function(t,e){m[e]=i(v,e)}),newrelic.noticeError=function(t,e){\"string\"==typeof t&&(t=new Error(t)),s.recordSupportability(\"API/noticeError/called\"),o(\"err\",[t,u.now(),!1,e])}},{}],2:[function(t,e,n){function r(t){if(NREUM.init){for(var e=NREUM.init,n=t.split(\".\"),r=0;r<n.length-1;r++)if(e=e[n[r]],\"object\"!=typeof e)return;return e=e[n[n.length-1]]}}e.exports={getConfiguration:r}},{}],3:[function(t,e,n){var r=!1;try{var i=Object.defineProperty({},\"passive\",{get:function(){r=!0}});window.addEventListener(\"testPassive\",null,i),window.removeEventListener(\"testPassive\",null,i)}catch(o){}e.exports=function(t){return r?{passive:!0,capture:!!t}:!!t}},{}],4:[function(t,e,n){function r(t,e){var n=[a,t,{name:t},e];return o(\"storeMetric\",n,null,\"api\"),n}function i(t,e){var n=[c,t,{name:t},e];return o(\"storeEventMetrics\",n,null,\"api\"),n}var o=t(\"handle\"),a=\"sm\",c=\"cm\";e.exports={constants:{SUPPORTABILITY_METRIC:a,CUSTOM_METRIC:c},recordSupportability:r,recordCustom:i}},{}],5:[function(t,e,n){function r(){return c.exists&&performance.now?Math.round(performance.now()):(o=Math.max((new Date).getTime(),o))-a}function i(){return o}var o=(new Date).getTime(),a=o,c=t(11);e.exports=r,e.exports.offset=a,e.exports.getLastTimestamp=i},{}],6:[function(t,e,n){function r(t,e){var n=t.getEntries();n.forEach(function(t){\"first-paint\"===t.name?l(\"timing\",[\"fp\",Math.floor(t.startTime)]):\"first-contentful-paint\"===t.name&&l(\"timing\",[\"fcp\",Math.floor(t.startTime)])})}function i(t,e){var n=t.getEntries();if(n.length>0){var r=n[n.length-1];if(u&&u<r.startTime)return;var i=[r],o=a({});o&&i.push(o),l(\"lcp\",i)}}function o(t){t.getEntries().forEach(function(t){t.hadRecentInput||l(\"cls\",[t])})}function a(t){var e=navigator.connection||navigator.mozConnection||navigator.webkitConnection;if(e)return e.type&&(t[\"net-type\"]=e.type),e.effectiveType&&(t[\"net-etype\"]=e.effectiveType),e.rtt&&(t[\"net-rtt\"]=e.rtt),e.downlink&&(t[\"net-dlink\"]=e.downlink),t}function c(t){if(t instanceof y&&!w){var e=Math.round(t.timeStamp),n={type:t.type};a(n),e<=v.now()?n.fid=v.now()-e:e>v.offset&&e<=Date.now()?(e-=v.offset,n.fid=v.now()-e):e=v.now(),w=!0,l(\"timing\",[\"fi\",e,n])}}function f(t){\"hidden\"===t&&(u=v.now(),l(\"pageHide\",[u]))}if(!(\"init\"in NREUM&&\"page_view_timing\"in NREUM.init&&\"enabled\"in NREUM.init.page_view_timing&&NREUM.init.page_view_timing.enabled===!1)){var u,s,d,p,l=t(\"handle\"),v=t(\"loader\"),m=t(8),g=t(3),y=NREUM.o.EV;if(\"PerformanceObserver\"in window&&\"function\"==typeof window.PerformanceObserver){s=new PerformanceObserver(r);try{s.observe({entryTypes:[\"paint\"]})}catch(h){}d=new PerformanceObserver(i);try{d.observe({entryTypes:[\"largest-contentful-paint\"]})}catch(h){}p=new PerformanceObserver(o);try{p.observe({type:\"layout-shift\",buffered:!0})}catch(h){}}if(\"addEventListener\"in document){var w=!1,b=[\"click\",\"keydown\",\"mousedown\",\"pointerdown\",\"touchstart\"];b.forEach(function(t){document.addEventListener(t,c,g(!1))})}m(f)}},{}],7:[function(t,e,n){function r(t,e){if(!i)return!1;if(t!==i)return!1;if(!e)return!0;if(!o)return!1;for(var n=o.split(\".\"),r=e.split(\".\"),a=0;a<r.length;a++)if(r[a]!==n[a])return!1;return!0}var i=null,o=null,a=/Version\\/(\\S+)\\s+Safari/;if(navigator.userAgent){var c=navigator.userAgent,f=c.match(a);f&&c.indexOf(\"Chrome\")===-1&&c.indexOf(\"Chromium\")===-1&&(i=\"Safari\",o=f[1])}e.exports={agent:i,version:o,match:r}},{}],8:[function(t,e,n){function r(t){function e(){t(c&&document[c]?document[c]:document[o]?\"hidden\":\"visible\")}\"addEventListener\"in document&&a&&document.addEventListener(a,e,i(!1))}var i=t(3);e.exports=r;var o,a,c;\"undefined\"!=typeof document.hidden?(o=\"hidden\",a=\"visibilitychange\",c=\"visibilityState\"):\"undefined\"!=typeof document.msHidden?(o=\"msHidden\",a=\"msvisibilitychange\"):\"undefined\"!=typeof document.webkitHidden&&(o=\"webkitHidden\",a=\"webkitvisibilitychange\",c=\"webkitVisibilityState\")},{}],9:[function(t,e,n){function r(t,e){var n=[],r=\"\",o=0;for(r in t)i.call(t,r)&&(n[o]=e(r,t[r]),o+=1);return n}var i=Object.prototype.hasOwnProperty;e.exports=r},{}],10:[function(t,e,n){function r(t,e,n){e||(e=0),\"undefined\"==typeof n&&(n=t?t.length:0);for(var r=-1,i=n-e||0,o=Array(i<0?0:i);++r<i;)o[r]=t[e+r];return o}e.exports=r},{}],11:[function(t,e,n){e.exports={exists:\"undefined\"!=typeof window.performance&&window.performance.timing&&\"undefined\"!=typeof window.performance.timing.navigationStart}},{}],ee:[function(t,e,n){function r(){}function i(t){function e(t){return t&&t instanceof r?t:t?u(t,f,a):a()}function n(n,r,i,o,a){if(a!==!1&&(a=!0),!l.aborted||o){t&&a&&t(n,r,i);for(var c=e(i),f=m(n),u=f.length,s=0;s<u;s++)f[s].apply(c,r);var p=d[w[n]];return p&&p.push([b,n,r,c]),c}}function o(t,e){h[t]=m(t).concat(e)}function v(t,e){var n=h[t];if(n)for(var r=0;r<n.length;r++)n[r]===e&&n.splice(r,1)}function m(t){return h[t]||[]}function g(t){return p[t]=p[t]||i(n)}function y(t,e){l.aborted||s(t,function(t,n){e=e||\"feature\",w[n]=e,e in d||(d[e]=[])})}var h={},w={},b={on:o,addEventListener:o,removeEventListener:v,emit:n,get:g,listeners:m,context:e,buffer:y,abort:c,aborted:!1};return b}function o(t){return u(t,f,a)}function a(){return new r}function c(){(d.api||d.feature)&&(l.aborted=!0,d=l.backlog={})}var f=\"nr@context\",u=t(\"gos\"),s=t(9),d={},p={},l=e.exports=i();e.exports.getOrSetContext=o,l.backlog=d},{}],gos:[function(t,e,n){function r(t,e,n){if(i.call(t,e))return t[e];var r=n();if(Object.defineProperty&&Object.keys)try{return Object.defineProperty(t,e,{value:r,writable:!0,enumerable:!1}),r}catch(o){}return t[e]=r,r}var i=Object.prototype.hasOwnProperty;e.exports=r},{}],handle:[function(t,e,n){function r(t,e,n,r){i.buffer([t],r),i.emit(t,e,n)}var i=t(\"ee\").get(\"handle\");e.exports=r,r.ee=i},{}],id:[function(t,e,n){function r(t){var e=typeof t;return!t||\"object\"!==e&&\"function\"!==e?-1:t===window?0:a(t,o,function(){return i++})}var i=1,o=\"nr@id\",a=t(\"gos\");e.exports=r},{}],loader:[function(t,e,n){function r(){if(!M++){var t=T.info=NREUM.info,e=m.getElementsByTagName(\"script\")[0];if(setTimeout(u.abort,3e4),!(t&&t.licenseKey&&t.applicationID&&e))return u.abort();f(x,function(e,n){t[e]||(t[e]=n)});var n=a();c(\"mark\",[\"onload\",n+T.offset],null,\"api\"),c(\"timing\",[\"load\",n]);var r=m.createElement(\"script\");0===t.agent.indexOf(\"http://\")||0===t.agent.indexOf(\"https://\")?r.src=t.agent:r.src=l+\"://\"+t.agent,e.parentNode.insertBefore(r,e)}}function i(){\"complete\"===m.readyState&&o()}function o(){c(\"mark\",[\"domContent\",a()+T.offset],null,\"api\")}var a=t(5),c=t(\"handle\"),f=t(9),u=t(\"ee\"),s=t(7),d=t(2),p=t(3),l=d.getConfiguration(\"ssl\")===!1?\"http\":\"https\",v=window,m=v.document,g=\"addEventListener\",y=\"attachEvent\",h=v.XMLHttpRequest,w=h&&h.prototype,b=!1;NREUM.o={ST:setTimeout,SI:v.setImmediate,CT:clearTimeout,XHR:h,REQ:v.Request,EV:v.Event,PR:v.Promise,MO:v.MutationObserver};var E=\"\"+location,x={beacon:\"bam.nr-data.net\",errorBeacon:\"bam.nr-data.net\",agent:\"js-agent.newrelic.com/nr-1216.min.js\"},O=h&&w&&w[g]&&!/CriOS/.test(navigator.userAgent),T=e.exports={offset:a.getLastTimestamp(),now:a,origin:E,features:{},xhrWrappable:O,userAgent:s,disabled:b};if(!b){t(1),t(6),m[g]?(m[g](\"DOMContentLoaded\",o,p(!1)),v[g](\"load\",r,p(!1))):(m[y](\"onreadystatechange\",i),v[y](\"onload\",r)),c(\"mark\",[\"firstbyte\",a.getLastTimestamp()],null,\"api\");var M=0}},{}],\"wrap-function\":[function(t,e,n){function r(t,e){function n(e,n,r,f,u){function nrWrapper(){var o,a,s,p;try{a=this,o=d(arguments),s=\"function\"==typeof r?r(o,a):r||{}}catch(l){i([l,\"\",[o,a,f],s],t)}c(n+\"start\",[o,a,f],s,u);try{return p=e.apply(a,o)}catch(v){throw c(n+\"err\",[o,a,v],s,u),v}finally{c(n+\"end\",[o,a,p],s,u)}}return a(e)?e:(n||(n=\"\"),nrWrapper[p]=e,o(e,nrWrapper,t),nrWrapper)}function r(t,e,r,i,o){r||(r=\"\");var c,f,u,s=\"-\"===r.charAt(0);for(u=0;u<e.length;u++)f=e[u],c=t[f],a(c)||(t[f]=n(c,s?f+r:r,i,f,o))}function c(n,r,o,a){if(!v||e){var c=v;v=!0;try{t.emit(n,r,o,e,a)}catch(f){i([f,n,r,o],t)}v=c}}return t||(t=s),n.inPlace=r,n.flag=p,n}function i(t,e){e||(e=s);try{e.emit(\"internal-error\",t)}catch(n){}}function o(t,e,n){if(Object.defineProperty&&Object.keys)try{var r=Object.keys(t);return r.forEach(function(n){Object.defineProperty(e,n,{get:function(){return t[n]},set:function(e){return t[n]=e,e}})}),e}catch(o){i([o],n)}for(var a in t)l.call(t,a)&&(e[a]=t[a]);return e}function a(t){return!(t&&t instanceof Function&&t.apply&&!t[p])}function c(t,e){var n=e(t);return n[p]=t,o(t,n,s),n}function f(t,e,n){var r=t[e];t[e]=c(r,n)}function u(){for(var t=arguments.length,e=new Array(t),n=0;n<t;++n)e[n]=arguments[n];return e}var s=t(\"ee\"),d=t(10),p=\"nr@original\",l=Object.prototype.hasOwnProperty,v=!1;e.exports=r,e.exports.wrapFunction=c,e.exports.wrapInPlace=f,e.exports.argsToArray=u},{}]},{},[\"loader\"]);</script><title>Angel Barruz | Codewars</title><meta content=\"authenticity_token\" name=\"csrf-param\"/>\n",
       "<meta content=\"+Cctf2NDvDVtho6RDRR38EgShQ0jj0fj1PVocTGtJNtvtcADKalBxa286AFN1hTWiZ74k4TcswrBG87NafLtJw==\" name=\"csrf-token\"/><meta content=\"no-preview\" name=\"turbolinks-cache-control\"/><meta content=\"width=320px, initial-scale=1.0, minimum-scale=0.86, maximum-scale=5.0\" name=\"viewport\"/><meta property=\"og:title\"/><meta content=\"website\" property=\"og:type\"/><meta content=\"Codewars\" property=\"og:site_name\"/><meta content=\"https://www.codewars.com\" property=\"og:url\"/><meta content=\"https://www.codewars.com/packs/assets/logo-square-paper-bg.c3d2b1eb.jpg\" property=\"og:image\"/><meta content=\"https://www.codewars.com/packs/assets/logo-square-paper-bg.c3d2b1eb.jpg\" property=\"og:image:secure_url\"/><meta content=\"Codewars is where developers achieve code mastery through challenge. Train on kata in the dojo and reach your highest potential.\" property=\"og:description\"/><meta content=\"652826666\" property=\"fb:admins\"/><meta content=\"110951985735625\" property=\"fb:app_id\"/><meta content=\"@codewars\" name=\"twitter:site\"/><meta content=\"Codewars is where developers achieve code mastery through challenge. Train on kata in the dojo and reach your highest potential.\" name=\"description\"/><meta content=\"codewars, code kata, kata, code gym, coding, code practice, ruby, javascript, coffeescript, web development, software development, dojo\" name=\"keywords\"/><meta content=\"EMv3k6eCCUuSkbwJpGlLbtsBd_lCvmvDp1Ucsv0rIvM\" name=\"google-site-verification\"/><link href=\"https://fonts.googleapis.com/css?family=Lato&amp;display=swap\" media=\"screen\" rel=\"stylesheet\"/><script async=\"\" src=\"https://media.ethicalads.io/media/client/ethicalads.min.js\"></script><link data-turbolinks-track=\"reload\" href=\"https://www.codewars.com/packs/assets/components.1cfbbd38.css\" media=\"screen\" rel=\"stylesheet\"/><script crossorigin=\"anonymous\" data-turbolinks-track=\"reload\" defer=\"defer\" src=\"https://www.codewars.com/packs/assets/components.43449d77.js\" type=\"module\"></script><link data-turbolinks-track=\"reload\" href=\"https://www.codewars.com/packs/assets/application.684be229.css\" media=\"screen\" rel=\"stylesheet\"/><script crossorigin=\"anonymous\" data-turbolinks-track=\"reload\" defer=\"defer\" src=\"https://www.codewars.com/packs/assets/application.2ffbe3b2.js\" type=\"module\"></script><link data-turbolinks-track=\"reload\" defer=\"defer\" href=\"https://www.codewars.com/packs/assets/application.adda2f81.css\" media=\"screen\" rel=\"stylesheet\"/><script async=\"\" src=\"https://www.googletagmanager.com/gtag/js?id=G-M3JYSQLS8M\"></script><script>window.dataLayer = window.dataLayer || [];\n",
       "function gtag() { dataLayer.push(arguments); }\n",
       "gtag('js', new Date());</script></head><body class=\"show_view\" id=\"users\"><div id=\"app\"><div class=\"w-full\" id=\"shell\"><div class=\"sidenav-nubbin block md:hidden\"><i class=\"icon-moon-list\"></i></div><nav id=\"sidenav\"><ul class=\"top md:mb-10\"><li class=\"sidenav-item\"><a class=\"inline-flex items-center overflow-x-hidden\" data-turbolinks=\"false\" href=\"https://www.codewars.com/\"><div class=\"logo mt-3 shrink-0\"><img class=\"w-full h-full\" src=\"https://www.codewars.com/packs/assets/logo.61192cf7.svg\"/></div><div class=\"sidenav-link__content mt-2\"><div class=\"sidenav-link__label\">Sign Up</div><div class=\"sidenav-link__desc\">Time to claim your honor</div></div></a></li><li class=\"sidenav-section\"><span>Training</span></li><li class=\"sidenav-item mt-1\"><a href=\"/kata/latest\"><div class=\"sidenav-link__icon\"><svg class=\"ml-1.5 w-6 h-6 inline-block\" fill=\"currentColor\" viewbox=\"0 0 24 24\"><path d=\"M23.477 7.694c-.395-.559-1.312-.795-1.869-.318L20.342 8.46c-3.71-1.833-7.42-3.663-11.129-5.497-1.651-.817-2.512 1.944-.884 2.748l4.011 1.98-2.83 5.437c-.019.039-.032.08-.05.12L2.053 9.843c-1.66-.762-2.537 1.931-.899 2.685l8.863 4.074.5 2.442a272 272 0 0 1-3.176-1.45c-1.643-.767-3.08 1.672-1.428 2.443 2.031.948 4.082 1.852 6.123 2.776 1.268.572 2.405-.733 2.115-1.708v-.02c-.353-1.726-.708-3.452-1.06-5.179.076-.093.152-.19.21-.3l3.08-5.918 3.405 1.68c.384.191.723.183 1.001.055.172-.036.337-.11.478-.23.631-.54 1.26-1.081 1.893-1.62.555-.477.767-1.242.32-1.879z\"></path><path d=\"M16.482 5.579a2.303 2.303 0 1 0 1.145-4.462l-.016-.003a2.303 2.303 0 0 0-1.145 4.461l.016.004z\"></path></svg></div><div class=\"sidenav-link__content\"><div class=\"sidenav-link__label\">Practice</div><div class=\"sidenav-link__desc\">Complete challenging <strong>Kata</strong> to earn honor and ranks. Re-train to hone technique</div></div></a></li><li class=\"sidenav-item\"><a href=\"/kumite\"><div class=\"sidenav-link__icon\"><svg class=\"ml-1.5 w-6 h-6 inline-block\" fill=\"currentColor\" viewbox=\"0 0 24 24\"><path d=\"m9.441 10.67-2.908 1.233-1.06-2.317 1.848-.05c.543 0 .986-.418 1.06-.96l.296-2.416C8.751 5.568 8.332 5 7.74 4.927a1.106 1.106 0 0 0-1.232.961l-.197 1.48-1.627.049a.786.786 0 0 0-.345.074l-2.268.813a.997.997 0 0 0-.64.616 1.02 1.02 0 0 0 .048.888l2.317 4.659-1.109 6.779c-.123.69.37 1.356 1.06 1.479.074 0 .148.025.222.025a1.27 1.27 0 0 0 1.257-1.085l1.134-6.902 6.113-2.589-2.193-.936a2.199 2.199 0 0 1-.838-.567zM4.574 4.136a2.243 2.243 0 1 1-4.07 1.887 2.243 2.243 0 0 1 4.07-1.887Z\"></path><path d=\"m21.94 6.727-2.268-.814a.87.87 0 0 0-.345-.074l-1.652-.05-.197-1.478c-.074-.592-.641-1.011-1.233-.962a1.11 1.11 0 0 0-.961 1.233l.296 2.415c.073.543.517.937 1.06.962l1.848.05-1.06 2.317-5.768-2.441c-.666-.271-1.405.025-1.676.69-.271.666.024 1.405.69 1.676l6.952 2.959 1.134 6.902a1.27 1.27 0 0 0 1.257 1.085c.074 0 .148 0 .222-.025.69-.123 1.183-.789 1.06-1.48l-1.11-6.778 2.317-4.66c.148-.27.148-.616.05-.887a.946.946 0 0 0-.617-.64zm.465-5.268a2.243 2.243 0 1 1-1.888 4.07 2.243 2.243 0 0 1 1.888-4.07z\"></path></svg></div><div class=\"sidenav-link__content\"><div class=\"sidenav-link__label\">Freestyle Sparring</div><div class=\"sidenav-link__desc\">Take turns remixing and refactoring others code through <strong>Kumite</strong></div></div></a></li><li class=\"sidenav-section\"><span>Career</span></li><li class=\"sidenav-item mt-1\"><a href=\"https://jobs.qualified.io\" rel=\"noopener\" target=\"_blank\" title=\"Qualified Jobs\"><div class=\"sidenav-link__icon\"><svg class=\"ml-1.5 w-6 h-6 inline-block\" fill=\"none\" stroke=\"currentColor\" viewbox=\"0 0 24 24\"><path d=\"M21 13.255A23.931 23.931 0 0112 15c-3.183 0-6.22-.62-9-1.745M16 6V4a2 2 0 00-2-2h-4a2 2 0 00-2 2v2m4 6h.01M5 20h14a2 2 0 002-2V8a2 2 0 00-2-2H5a2 2 0 00-2 2v10a2 2 0 002 2z\" stroke-linecap=\"round\" stroke-linejoin=\"round\" stroke-width=\"2\"></path></svg></div><div class=\"sidenav-link__content\"><div class=\"sidenav-link__label\">Opportunities</div><div class=\"sidenav-link__desc\">Find your next career challenge – powered by <strong>Qualified Jobs</strong></div></div></a></li><li class=\"sidenav-section\"><span>Community</span></li><li class=\"sidenav-item mt-1\"><a href=\"/users/leaderboard\" title=\"Leaders\"><div class=\"sidenav-link__icon\"><svg class=\"ml-1.5 w-6 h-6 inline-block\" fill=\"none\" stroke=\"currentColor\" viewbox=\"0 0 24 24\"><path d=\"M13 7h8m0 0v8m0-8l-8 8-4-4-6 6\" stroke-linecap=\"round\" stroke-linejoin=\"round\" stroke-width=\"2.5\"></path></svg></div><div class=\"sidenav-link__content\"><div class=\"sidenav-link__label\">Leaderboards</div><div class=\"sidenav-link__desc\">Achieve honor and move up the global leaderboards</div></div></a></li><li class=\"sidenav-item\"><a href=\"https://discord.gg/mSwJWRvkHA\" rel=\"noopener\" target=\"_blank\" title=\"Discord\"><div class=\"sidenav-link__icon sidenav__discord-icon\"><svg class=\"ml-1.5 w-6 h-6 inline-block\" fill=\"currentColor\" viewbox=\"0 0 24 24\"><path d=\"M9.8147 10.0948c-.6792 0-1.2191.5921-1.2191 1.315 0 .7227.5486 1.3236 1.2191 1.3236.6793 0 1.2192-.6008 1.2192-1.3237.0174-.7228-.54-1.315-1.2192-1.315zm4.3715 0c-.6792 0-1.2191.5921-1.2191 1.315 0 .7227.5486 1.3236 1.2191 1.3236.6793 0 1.2192-.6008 1.2192-1.3237 0-.7228-.54-1.315-1.2192-1.315z\"></path><path d=\"M20.0034.0539H3.9889C2.64.0637 1.5506 1.1594 1.5506 2.5096v.0092-.0004 16.1629c0 1.3533 1.0945 2.4508 2.4465 2.4558H17.539l-.627-2.212 1.524 1.4195 1.4455 1.3411 2.569 2.2642V2.5096c0-1.3532-1.0945-2.4508-2.4466-2.4557ZM15.388 15.6595l-.7838-.9667c.889-.2145 1.636-.7207 2.1527-1.4097l.007-.0097c-.4877.3222-.958.5486-1.376.6966-.9578.4145-2.0733.6556-3.2451.6556a8.4005 8.4005 0 0 1-1.6323-.1593l.0531.0088c-.9878-.2002-1.8648-.5165-2.6764-.9407l.0552.0263-.1132-.061-.0435-.0348c-.2177-.122-.3396-.209-.3396-.209s.5747.958 2.09 1.4108c-.3484.4528-.7925.9928-.7925.9928-2.6386-.0871-3.6488-1.8201-3.6488-1.8201 0-3.8404 1.7242-6.9668 1.7242-6.9668 1.7156-1.2801 3.3527-1.2453 3.3527-1.2453l.122.148c-2.151.6183-3.135 1.5676-3.135 1.5676s.2612-.148.6966-.3484c.7886-.3714 1.7038-.6386 2.6657-.7534l.0426-.0042.209-.0174c.3922-.056.8452-.088 1.3056-.088 1.7258 0 3.3467.449 4.7522 1.2367l-.0491-.0253s-.9493-.9057-2.9783-1.5414l.1742-.1916s1.6285-.0348 3.3527 1.2628c0 0 1.7155 3.1176 1.7155 6.9667 0 0-1.0101 1.7243-3.6574 1.8114z\"></path></svg></div><div class=\"sidenav-link__content\"><div class=\"sidenav-link__label\">Chat</div><div class=\"sidenav-link__desc\">Join our <strong>Discord</strong> server and chat with your fellow code warriors</div></div></a></li><li class=\"sidenav-item\"><a href=\"https://github.com/codewars/codewars.com/discussions\" rel=\"noopener\" target=\"_blank\" title=\"GitHub Discussions\"><div class=\"sidenav-link__icon\"><svg class=\"ml-1.5 w-6 h-6 inline-block\" fill=\"none\" stroke=\"currentColor\" viewbox=\"0 0 24 24\"><path d=\"M17 8h2a2 2 0 012 2v6a2 2 0 01-2 2h-2v4l-4-4H9a1.994 1.994 0 01-1.414-.586m0 0L11 14h4a2 2 0 002-2V6a2 2 0 00-2-2H5a2 2 0 00-2 2v6a2 2 0 002 2h2v4l.586-.586z\" stroke-linecap=\"round\" stroke-linejoin=\"round\" stroke-width=\"2.5\"></path></svg></div><div class=\"sidenav-link__content\"><div class=\"sidenav-link__label\">Discussions</div><div class=\"sidenav-link__desc\">View our <strong>Github Discussions</strong> board to discuss general Codewars topics</div></div></a></li><li class=\"sidenav-section\"><span>About</span></li><li class=\"sidenav-item mt-1\"><a href=\"https://docs.codewars.com\" rel=\"noopener\" target=\"_blank\" title=\"The Codewars Docs\"><div class=\"sidenav-link__icon\"><svg class=\"ml-1.5 w-6 h-6 inline-block\" fill=\"none\" stroke=\"currentColor\" viewbox=\"0 0 24 24\"><path d=\"M12 6.253v13m0-13C10.832 5.477 9.246 5 7.5 5S4.168 5.477 3 6.253v13C4.168 18.477 5.754 18 7.5 18s3.332.477 4.5 1.253m0-13C13.168 5.477 14.754 5 16.5 5c1.747 0 3.332.477 4.5 1.253v13C19.832 18.477 18.247 18 16.5 18c-1.746 0-3.332.477-4.5 1.253\" stroke-linecap=\"round\" stroke-linejoin=\"round\" stroke-width=\"2.5\"></path></svg></div><div class=\"sidenav-link__content\"><div class=\"sidenav-link__label\">Docs</div><div class=\"sidenav-link__desc\">Learn about all of the different aspects of Codewars</div></div></a></li></ul></nav><header class=\"main is-visible\" id=\"main_header\"><ul class=\"items\"><li class=\"item-list\"><a class=\"js-toggle-dark-mode w-6\"><svg class=\"block dark:hidden\" fill=\"currentColor\" viewbox=\"0 0 20 20\"><path clip-rule=\"evenodd\" d=\"M10 2a1 1 0 011 1v1a1 1 0 11-2 0V3a1 1 0 011-1zm4 8a4 4 0 11-8 0 4 4 0 018 0zm-.464 4.95l.707.707a1 1 0 001.414-1.414l-.707-.707a1 1 0 00-1.414 1.414zm2.12-10.607a1 1 0 010 1.414l-.706.707a1 1 0 11-1.414-1.414l.707-.707a1 1 0 011.414 0zM17 11a1 1 0 100-2h-1a1 1 0 100 2h1zm-7 4a1 1 0 011 1v1a1 1 0 11-2 0v-1a1 1 0 011-1zM5.05 6.464A1 1 0 106.465 5.05l-.708-.707a1 1 0 00-1.414 1.414l.707.707zm1.414 8.486l-.707.707a1 1 0 01-1.414-1.414l.707-.707a1 1 0 011.414 1.414zM4 11a1 1 0 100-2H3a1 1 0 000 2h1z\" fill-rule=\"evenodd\"></path></svg><svg class=\"hidden dark:block\" fill=\"currentColor\" viewbox=\"0 0 20 20\"><path d=\"M17.293 13.293A8 8 0 016.707 2.707a8.001 8.001 0 1010.586 10.586z\"></path></svg></a></li><li><span><a class=\"is-nudged-down-more\" data-turbolinks=\"false\" href=\"/users/sign_in\">Log In</a></span></li><li><span><a class=\"btn is-red text-gray-200 dark:text-white\" data-turbolinks=\"false\" href=\"/join\">Sign Up</a></span></li></ul></header><main id=\"shell_content\" role=\"main\"><div class=\"is-hidden\" id=\"global_alerts\"><div class=\"alert-box\"></div></div><div id=\"flash\"></div><div class=\"w-256 max-w-full mx-auto my-0 px-0\"><section class=\"user-profile mb-0 rounded-lg\"><div class=\"w-full px-0\"><figure class=\"profile-pic hidden md:block\"><a href=\"/users/Angel%20Barruz\"><img alt=\"Angel Barruz Avatar\" data-tippy-content=\"Angel Barruz\" data-tippy-placement=\"bottom\" src=\"https://www.codewars.com/packs/assets/profile-pic.f3a90aca.png\" title=\"Angel Barruz\"/></a></figure><div><div class=\"relative\"><a href=\"/users/Angel%20Barruz\"><img class=\"inline-block dark:hidden\" src=\"/users/Angel%20Barruz/badges/large?logo=false&amp;theme=light\"/><img class=\"hidden dark:inline-block\" src=\"/users/Angel%20Barruz/badges/large?logo=false\"/></a></div><div class=\"flex-box\"><div class=\"stat-box mt-1 mb-1 md:mb-0\"><div class=\"stat\"><b>Name:</b>Unknown</div><div class=\"stat\"><b>Clan:</b>Unknown</div></div><div class=\"stat-box mt-1 mb-1 md:mb-0\"><div class=\"stat\"><b>Member Since:</b>May 2022</div><div class=\"stat\"><b>Last Seen:</b>Jul 2022</div><div class=\"stat\"><b>Profiles:</b><ul class=\"is-inline\"></ul></div></div><div class=\"stat-box mt-1 mb-1 md:mb-0\"><div class=\"stat\"><b>Following:</b>0</div><div class=\"stat\"><b>Followers:</b>0</div><div class=\"stat\"><b>Allies:</b>0</div></div></div><div class=\"mx-auto md:w-10/12 md:px-2\"><div class=\"flex-buttons mt-4 mb-2\"><div class=\"flex-button\"><a class=\"btn is-dark is-tiny\" href=\"/users/Angel%20Barruz/badges\">View Profile Badges</a></div></div></div><div class=\"clearfix\"></div></div></div></section></div><div class=\"w-256 max-w-full mx-auto my-4\"><div class=\"flex flex-col md:flex-row space-y-4 md:space-y-0 md:space-x-4\"><div class=\"w-full bg-ui-section px-0 rounded-lg\"><div class=\"max-w-md mx-auto\"><div @vue:mounted=\"mounted\" id=\"partner-display\" v-cloak=\"\" v-if=\"!user || !user.hideAds\"><div class=\"wf-title-alt p-4 pb-0 mb-1\" v-if=\"ad &amp;&amp; ad.headline\" v-text=\"ad.headline\"></div><div :data-ea-keywords=\"keywords\" :data-ea-type=\"type\" :id=\"id\" class=\"horizontal flat\" data-ea-manual=\"true\" data-ea-publisher=\"codewarscom\" v-if=\"ethical\"></div><div :class=\"`cw-ad--${ad.image ? type : 'text'} ${contrast ? 'cw-ad--contrast' : ''} ${ad.title ? 'cw-ad--title' : ''}`\" class=\"cw-ad\" v-if=\"!ethical &amp;&amp; ad\"><a :href=\"ad.href\" rel=\"nofollow noopener external\" target=\"_blank\"><img :src=\"ad.image\" :style=\"imgStyle\" alt=\"Ad\" class=\"cw-ad__img\" v-if=\"type == 'image' &amp;&amp; ad.image\"/><div class=\"cw-ad__text\"><div class=\"cw-ad__title\" v-if=\"ad.title\" v-text=\"ad.title\"></div><div class=\"cw-ad__copy\"><span v-text=\"ad.copy\"></span><span class=\"cw-ad__cta\" v-if=\"ad.cta\" v-text=\"ad.cta\"></span></div></div></a><a :href=\"ad.partnerLink\" class=\"cw-ad__callout\" target=\"carbon\" v-html=\"ad.partner\" v-if=\"ad.partnerLink\"></a><span class=\"cw-ad__callout\" v-else-if=\"ad.partner\" v-text=\"ad.partner\"></span><img :src=\"url\" class=\"cw-ad__pixel\" v-for=\"url in ad.pixels\"/></div></div></div></div></div></div><div class=\"w-256 max-w-full mx-auto mb-0 mt-4 p-0\"><ul class=\"list-none mb-2 py-0 overflow-x-auto flex flex-row items-center mb-2 space-x-2\"><li class=\"px-4 bg-ui-section rounded-lg px-4 py-2\"><a class=\"cursor-default pointer-events-none\" href=\"/users/Angel%20Barruz/stats\">Stats</a></li><li class=\"px-4\"><a href=\"/users/Angel%20Barruz/completed\">Kata</a></li><li class=\"px-4\"><a href=\"/users/Angel%20Barruz/authored_collections\">Collections</a></li><li class=\"px-4\"><a href=\"/users/Angel%20Barruz/published_kumite\">Kumite</a></li><li class=\"px-4\"><a href=\"/users/Angel%20Barruz/following\">Social</a></li><li class=\"px-4\"><a href=\"/users/Angel%20Barruz/comments\">Discourse</a></li></ul><div class=\"bg-ui-section py-2 rounded-lg\"><div class=\"px-4 pb-4\"><div><div class=\"w-full px-0\"><section class=\"stat-category\"><figure class=\"hidden md:block\"><i class=\"icon-moon-progress\"></i></figure><div class=\"stat-container\"><h2 class=\"mt-2 md:mt-5 mb-1\">Progress</h2><div class=\"stat-row\"><div class=\"stat-box mt-1 mb-1 md:mb-0\"><div class=\"stat\"><b>Rank:</b>7 kyu</div><div class=\"stat\"><b>Honor:</b>54</div><div class=\"stat\"><b>Total Completed Kata:</b>9</div></div><div class=\"stat-box mt-1 mb-1 md:mb-0\"><h3><i class=\"icon-moon-terminal\"></i>Languages:</h3><div class=\"ml-5\"><div class=\"stat\"><b>Total Languages Trained:</b>2</div><div class=\"stat\"><b>Highest Trained:</b>SQL (7 kyu)</div><div class=\"stat\"><b>Most Recent:</b>Python</div></div></div></div></div><div class=\"clearfix\"></div></section></div></div><div class=\"my-4\"><div class=\"w-full px-0\"><section class=\"stat-category\"><figure class=\"hidden md:block\"><i class=\"icon-moon-contribution\"></i></figure><div class=\"stat-container\"><h2 class=\"mt-2 md:mt-5 mb-1\">Contributions</h2><div class=\"stat-row\"><div class=\"stat-box mt-1 mb-1 md:mb-0\"><h3><i class=\"icon-moon-users\"></i>Community:</h3><div class=\"ml-5\"><div class=\"stat\"><b>Comments:</b>0 (0 replies)</div><div class=\"stat\"><b>Collections:</b>0</div><div class=\"stat\"><b>Kumite:</b>0</div><div class=\"stat\"><b>Translations:</b>0 (0 approved)</div></div></div></div></div></section></div></div><div class=\"mt-8\"></div></div></div></div></main><div class=\"clearfix\"></div></div><div class=\"clearfix\"></div><footer class=\"p-3 text-ui-text mb-0 text-center w-auto h-50px\" id=\"main_footer\"><ul class=\"block list-none mx-auto mb-0 p-0 overflow-hidden space-x-5\"><li class=\"inline-block\">© 2022 Codewars</li><li class=\"inline-block\"><a href=\"/about\">About</a></li><li class=\"inline-block\"><a href=\"https://dev.codewars.com\" rel=\"noopener\" target=\"_blank\">API</a></li><li class=\"inline-block\"><a href=\"https://www.codewars.com/blog\" rel=\"noopener\" target=\"_blank\">Blog</a></li><li class=\"inline-block\"><a href=\"/about/privacy\">Privacy</a></li><li class=\"inline-block\"><a href=\"/about/terms-of-service\">Terms</a></li><li class=\"inline-block\"><a data-content=\"info@codewars.com\" href=\"mailto:info@codewars.com\" id=\"contactUs\" rel=\"popover\">Contact</a></li><li class=\"poweredby_link inline-block\"><a class=\"hover:text-current\" data-tippy-content=\"Supercharge your technical hiring, certification, and upskilling process with our real-world developer assessments.\" data-tippy-placement=\"top\" href=\"https://www.qualified.io?utm_source=codewars&amp;utm_medium=web&amp;utm_term=footer\" rel=\"nofollow\" target=\"_blank\"><div class=\"flex items-baseline justify-center\"><span class=\"pl-1 text-xs inline-block\">powered by</span><img class=\"h-4 inline-block dark:hidden pl-1\" src=\"https://www.codewars.com/packs/assets/qualified-black.b052752a.svg\"/><img class=\"h-4 hidden dark:inline-block pl-1\" src=\"https://www.codewars.com/packs/assets/qualified-white.7cba1bde.svg\"/></div></a></li></ul></footer><div class=\"modal\" id=\"confirm_modal\" style=\"display: none\"><div class=\"modal-header\"><div class=\"close\" data-dismiss=\"modal\"><i class=\"icon-moon-x\"></i></div><h4>Confirm</h4><div class=\"clearfix\"></div></div><div class=\"clearfix\"></div><div class=\"modal-body view\"></div><div class=\"modal-footer\"><ul class=\"form-actions\"><li class=\"cancel\" data-dismiss=\"modal\"><a class=\"btn\">Cancel</a></li><li class=\"alt-confirm is-hidden\"><a class=\"btn\"></a></li><li class=\"confirm\"><a class=\"btn is-green\"><i class=\"icon-general-checkmark\"></i>Confirm</a></li></ul></div></div></div><div class=\"is-hidden\" data-turbolinks-permanent=\"\" id=\"template_helpers\"><script id=\"hidden_field\" type=\"template\"><input data-bind-id=\"@id\" data-bind-name=\"@name\" data-bind-value=\"@value\" type=\"hidden\" /></script><script id=\"input_field\" type=\"template\"><div data-bind-class=\"field_class\"><label data-bind-class=\"%required &amp;&amp; &#39;required&#39;\" data-bind-for=\"@id\" data-bind-if=\"%label\"><abbr data-bind-if=\"%required\" title=\"required\">* </abbr><span data-bind-html=\"%label\"></span></label><div data-bind-class=\"field_value_class\"><input data-bind-id=\"@id\" data-bind-name=\"@name\" data-bind-type=\"%type || &#39;text&#39;\" data-bind-value=\"@value | unescape_html || %defaultValue\" /></div><include data-bind-each=\"@errors\"><small data-bind-html=\"@\"></small></include></div></script><script id=\"checkbox_field\" type=\"template\"><div class=\"boolean\" data-bind-class=\"field_class\"><div class=\"field_value\"><div><input data-bind-name=\"@name\" type=\"hidden\" value=\"false\" /><label class=\"checkbox\"><input class=\"form-checkbox rounded bg-gray-400 dark:bg-gray-600 border-transparent focus:border-transparent focus:bg-gray-400 text-gray-700 focus:ring-1 focus:ring-offset-2 dark:ring-offset-1 focus:ring-gray-500 dark:focus:ring-gray-700 dark:focus:ring-offset-gray-800 boolean\" data-bind-checked=\"@value\" data-bind-id=\"@id\" data-bind-name=\"@name\" type=\"checkbox\" value=\"true\" /><span data-bind-html=\"%label || @label\"></span></label></div></div></div></script><script id=\"markdown_field\" type=\"template\"><div class=\"is-full-height\" data-bind-class=\"field_class\" data-bind-if=\"%style | eq::&#39;full&#39;\"><div class=\"markdown-editor is-full-height mb-0\"><div class=\"tabs is-full-height\"><dl class=\"tabs\"><dd class=\"is-active\" data-tippy-content=\"Edit your message using markdown\" data-tippy-placement=\"top\"><a data-bind-html=\"{{%label}}\" data-bind-if=\"%label\" data-tab=\"markdown\"></a><a data-bind-unless=\"%label\" data-tab=\"markdown\"><i class=\"icon-moon-edit \"></i></a></dd><dd data-tippy-content=\"Preview your comment\" data-tippy-placement=\"right\"><a data-tab=\"preview\"><i class=\"icon-moon-preview \"></i></a></dd><dd data-tippy-content=\"Edit in full-screen mode\" data-tippy-placement=\"left\"><a class=\"js-expand\"><i class=\"icon-moon-expand \"></i></a></dd></dl><div class=\"clearfix\"></div><ul class=\"tabs-content is-full-height\"><li class=\"is-full-height is-active\" data-tab=\"markdown\"><div class=\"text-editor-container is-full-height\"><textarea class=\"is-hidden\" data-bind-id=\"@id\" data-bind-name=\"@name\" data-bind-value=\"@value\"></textarea><div class=\"text-editor js-editor has-shadow\"></div><div class=\"editor-msg-container is-hidden\"><div class=\"alert-box\"></div></div></div></li><li class=\"is-full-height\" data-tab=\"preview\"><div class=\"panel bg-ui-section is-overflow-auto\"><div class=\"markdown prose max-w-none\"><p>Your rendered <a href=\"https://github.com/adam-p/markdown-here/wiki/Markdown-Cheatsheet\" target=\"_blank\" rel=\"noopener\">github-flavored</a> markdown will appear here.</p></div></div></li></ul></div></div></div><div data-bind-class=\"field_class\" data-bind-if=\"%style | ne::&#39;full&#39;\"><label data-bind-class=\"%required &amp;&amp; &#39;required&#39;\" data-bind-for=\"@id\" data-bind-if=\"%label\"><abbr data-bind-if=\"%required\" title=\"required\">* </abbr><span data-bind-html=\"%label\"></span></label><div class=\"markdown-editor is-tall\" data-bind-class=\"%markdownEditorClass\"><div class=\"tabs\"><dl class=\"tabs\"><dd class=\"is-active\" data-tippy-content=\"Edit your message using markdown\" data-tippy-placement=\"top\"><a data-tab=\"markdown\"><i class=\"icon-moon-edit \"></i></a></dd><dd data-tippy-content=\"Preview your comment\" data-tippy-placement=\"right\"><a data-tab=\"preview\"><i class=\"icon-moon-preview \"></i></a></dd><dd data-tippy-content=\"Edit in full-screen mode\" data-tippy-placement=\"right\"><a class=\"js-expand\"><i class=\"icon-moon-expand \"></i></a></dd></dl><ul class=\"tabs-content\"><li class=\"is-full-height is-active\" data-tab=\"markdown\"><div class=\"text-editor-container is-full-height\"><textarea class=\"is-hidden\" data-bind-id=\"@id\" data-bind-name=\"@name\" data-bind-value=\"@value\"></textarea><div class=\"text-editor js-editor has-shadow\"></div><div class=\"editor-msg-container is-hidden\"><div class=\"alert-box\"></div></div></div></li><li class=\"is-full-height\" data-tab=\"preview\"><div class=\"panel bg-ui-section is-overflow-auto\"><div class=\"markdown prose max-w-none\"><p>Your rendered <a href=\"https://github.com/adam-p/markdown-here/wiki/Markdown-Cheatsheet\" target=\"_blank\" rel=\"noopener\">github-flavored</a> markdown will appear here.</p></div></div></li></ul></div></div></div></script><script id=\"code_editor_field\" type=\"template\"><div class=\"text-editor-container\" data-bind-class=\"field_class\" data-bind-id=\"{{@id}}_field\"><label data-bind-class=\"%required &amp;&amp; &#39;required&#39;\" data-bind-for=\"@id\" data-bind-if=\"%label\"><abbr data-bind-if=\"%required\" title=\"required\">* </abbr><span data-bind-html=\"%label\"></span></label><textarea class=\"is-hidden\" data-bind-id=\"@id\" data-bind-name=\"@name\" data-bind-value=\"@value\"></textarea><div class=\"text-editor js-editor has-shadow\"></div><div class=\"commands-container\"><ul class=\"is-unstyled\"><li class=\"expand\" title=\"Maximize Editor (esc key)\"><a><i class=\"icon-moon-expand \"></i></a></li><li class=\"shrink is-hidden\" title=\"Shrink Editor (esc key)\"><a><i class=\"icon-moon-collapse \"></i></a></li></ul></div><div class=\"editor-msg-container is-hidden\"><div class=\"alert-box\"></div></div></div></script></div><div class=\"p-4 is-hidden\" data-turbolinks-permanent=\"true\" id=\"collection_modal\">\n",
       "<div id=\"collection-modal-view\" v-cloak=\"\" v-scope=\"\">\n",
       "<h3 class=\"mx-2 mt-2 mb-5 text-base font-bold\">\n",
       "Collect: <span v-html=\"current.name\">kata</span>\n",
       "</h3>\n",
       "<div class=\"pl-2\" v-if=\"loading\">\n",
       "<p>Loading collection data...</p>\n",
       "</div>\n",
       "<div v-else=\"\">\n",
       "<div class=\"tabs\" v-if=\"!adding\">\n",
       "<dl class=\"tabs\">\n",
       "<dd class=\"is-active\">\n",
       "<a data-tab=\"personal\">\n",
       "<i class=\"icon-moon-plus\"></i>Add To My Collections\n",
       "</a>\n",
       "</dd>\n",
       "</dl>\n",
       "<ul class=\"tabs-content mb-0\">\n",
       "<li class=\"is-active\" data-tab=\"personal\">\n",
       "<div class=\"collection-content\" v-if=\"canAdd\">\n",
       "<div class=\"collections\" v-if=\"collections.length &gt; 0\">\n",
       "<ul>\n",
       "<li v-for=\"collection in collections\">\n",
       "<div>\n",
       "<h4><i class=\"icon-moon-collection\"></i><span v-text=\"collection.name\"></span></h4>\n",
       "<div class=\"info-row\">\n",
       "<span>\n",
       "<i class=\"icon-moon-compare\"></i>\n",
       "<span v-text=\"collection.code_challenges.length + ' kata'\"></span>\n",
       "</span>\n",
       "<a :href=\"'/collections/' + collection.id\">\n",
       "<i class=\"icon-moon-preview\"></i>View\n",
       "</a>\n",
       "</div>\n",
       "</div>\n",
       "<a @click=\"removeChallenge(collection)\" class=\"btn is-dark is-red-text\" v-if=\"isInCollection(collection)\">Remove</a>\n",
       "<a @click=\"addChallenge(collection)\" class=\"btn is-dark is-green-text\" v-else=\"\">Add</a>\n",
       "</li>\n",
       "</ul>\n",
       "</div>\n",
       "<div v-else=\"\">\n",
       "<h5>You have not created any collections yet.</h5>\n",
       "<p>\n",
       "Collections are a way for you to organize kata so that you can create your own training routines.\n",
       "Every collection you create is public and automatically sharable with other warriors.\n",
       "After you have added a few kata to a collection you and others can train on the kata contained within the collection.\n",
       "</p>\n",
       "<p>\n",
       "Get started now by <a @click=\"adding = true\">creating a new collection</a>.\n",
       "</p>\n",
       "</div>\n",
       "</div>\n",
       "<div class=\"collection-content p-4\" v-else=\"\">\n",
       "You must wait until you have earned at least 20 honor before you can create new collections.\n",
       "</div>\n",
       "</li>\n",
       "</ul>\n",
       "</div>\n",
       "<form class=\"new-collection px-10px\" v-if=\"adding\">\n",
       "<p>\n",
       "Set the name for your new collection. Remember, this is going to be visible by everyone so think of something that others will understand.\n",
       "</p>\n",
       "<input class=\"form-input mt-4 block w-full rounded-none rounded-l-md sm:text-sm dark:bg-gray-800 focus:outline-none focus:ring-cgray-300 dark:focus:ring-cgray-600 focus:border-cgray-300 dark:focus:border-cgray-600 border-gray-300 dark:border-gray-700\" placeholder=\"New Collection Name\" type=\"text\" v-model=\"newCollectionName\"/>\n",
       "</form>\n",
       "<div class=\"collection-footer border-t mt-5\">\n",
       "<a @click=\"createCollection\" class=\"btn is-green mr-4\" v-if=\"adding\">Create &amp; Add</a>\n",
       "<a @click=\"hide()\" class=\"btn\" v-text=\"adding ? 'Cancel' : 'Done'\"></a>\n",
       "<a @click=\"adding = true\" class=\"btn is-green float-right\" v-if=\"!adding &amp;&amp; canAdd\">New Collection</a>\n",
       "</div>\n",
       "</div>\n",
       "</div>\n",
       "</div>\n",
       "<script>document.addEventListener(\"turbolinks:load\", (event) => {\n",
       "  const currentUser = JSON.parse(\"{}\");\n",
       "  if (typeof gtag === \"function\") {\n",
       "    const config = {\n",
       "      page_location: event.data.url,\n",
       "      page_title: event.target.title,\n",
       "    };\n",
       "    if (!currentUser.guest && currentUser.id) config.user_id = currentUser.id;\n",
       "    gtag(\"config\", \"G-M3JYSQLS8M\", config);\n",
       "    if (!currentUser.guest && currentUser.experience) {\n",
       "      gtag(\"set\", \"user_properties\", {\n",
       "        career_level: currentUser.experience,\n",
       "        rank: currentUser.rank,\n",
       "        bootcamp_interest: currentUser.bootcamp_interest || \"unknown\",\n",
       "      });\n",
       "    }\n",
       "  }\n",
       "  App.setup({\n",
       "    env: \"production\",\n",
       "    currentUser,\n",
       "    data: JSON.parse(\"{\\\"routes\\\":{},\\\"controllerName\\\":\\\"users\\\",\\\"profile\\\":{\\\"username\\\":\\\"Angel Barruz\\\",\\\"name\\\":null,\\\"clan\\\":null,\\\"isSelf\\\":false}}\"),\n",
       "    routes: {\"toggle_relationship\":\"/toggle/628526ced42f653707068bd2\",\"collection\":\"/api/v1/collections/%7Bid%7D\"},\n",
       "    pageControllerName: 'Users.ShowController',\n",
       "    ablyKey: \"scNMAQ.WPB3NQ:wcqqMD8xujGV8lHt\",\n",
       "    privateChannelName: \"5szXpA\",\n",
       "  });\n",
       "}, { once: true });</script><script>document.addEventListener(\"turbolinks:load\", (event) => {\n",
       "  if (typeof Intercom === \"function\" && Intercom.booted) Intercom(\"shutdown\");\n",
       "}, { once: true });</script></body></html>"
      ]
     },
     "execution_count": 13,
     "metadata": {},
     "output_type": "execute_result"
    }
   ],
   "source": [
    "parsed_html = bs4.BeautifulSoup(html, \"html.parser\") \n",
    "parsed_html"
   ]
  },
  {
   "cell_type": "code",
   "execution_count": null,
   "id": "988342ac",
   "metadata": {},
   "outputs": [],
   "source": []
  },
  {
   "cell_type": "code",
   "execution_count": 4,
   "id": "b4bcfc2a",
   "metadata": {},
   "outputs": [],
   "source": [
    "def get_member_since(username):\n",
    "    \n",
    "\n",
    "        "
   ]
  },
  {
   "cell_type": "code",
   "execution_count": null,
   "id": "e53ebe99",
   "metadata": {},
   "outputs": [],
   "source": []
  }
 ],
 "metadata": {
  "kernelspec": {
   "display_name": "Python [conda env:m1_ih]",
   "language": "python",
   "name": "conda-env-m1_ih-py"
  },
  "language_info": {
   "codemirror_mode": {
    "name": "ipython",
    "version": 3
   },
   "file_extension": ".py",
   "mimetype": "text/x-python",
   "name": "python",
   "nbconvert_exporter": "python",
   "pygments_lexer": "ipython3",
   "version": "3.9.12"
  }
 },
 "nbformat": 4,
 "nbformat_minor": 5
}
