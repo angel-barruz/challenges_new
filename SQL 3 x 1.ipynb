{
 "cells": [
  {
   "cell_type": "code",
   "execution_count": 1,
   "id": "8b8fcfad",
   "metadata": {},
   "outputs": [],
   "source": [
    "import sqlalchemy"
   ]
  },
  {
   "cell_type": "markdown",
   "id": "69d9ff32",
   "metadata": {},
   "source": [
    "# KATA 1"
   ]
  },
  {
   "cell_type": "code",
   "execution_count": 5,
   "id": "d5a516ef",
   "metadata": {},
   "outputs": [],
   "source": [
    "query_1 = '''\n",
    "SELECT \n",
    "DATE(events.created_at) AS \"day\",\n",
    "events.description, COUNT(events.id) AS \"count\"\n",
    "FROM events\n",
    "WHERE events.name = 'trained'\n",
    "GROUP BY  \"day\", events.description\n",
    "ORDER BY \"day\";\n",
    "'''"
   ]
  },
  {
   "cell_type": "markdown",
   "id": "1c143f96",
   "metadata": {},
   "source": [
    "# KATA 2"
   ]
  },
  {
   "cell_type": "code",
   "execution_count": 6,
   "id": "81ef1f69",
   "metadata": {},
   "outputs": [],
   "source": [
    "query_2 = '''\n",
    "SELECT\n",
    "capital \n",
    "FROM countries WHERE continent in('Africa', 'Afrika')\n",
    "AND substring(country,1,1)='E'\n",
    "ORDER BY capital \n",
    "LIMIT 3\n",
    "'''"
   ]
  },
  {
   "cell_type": "markdown",
   "id": "82dbac79",
   "metadata": {},
   "source": [
    "# KATA 3"
   ]
  },
  {
   "cell_type": "code",
   "execution_count": 7,
   "id": "f9973382",
   "metadata": {},
   "outputs": [],
   "source": [
    "query_3 = '''\n",
    "SELECT \n",
    "DATE (s.transaction_date) as \"day\",\n",
    "d.name AS department,\n",
    "COUNT(s.id) AS sale_count\n",
    "FROM department d\n",
    "INNER JOIN sale s on d.id = s.department_id\n",
    "GROUP BY \"day\", department\n",
    "ORDER BY \"day\" ASC\n",
    "'''"
   ]
  },
  {
   "cell_type": "code",
   "execution_count": null,
   "id": "12c5f6d0",
   "metadata": {},
   "outputs": [],
   "source": []
  }
 ],
 "metadata": {
  "kernelspec": {
   "display_name": "Python [conda env:m1_ih]",
   "language": "python",
   "name": "conda-env-m1_ih-py"
  },
  "language_info": {
   "codemirror_mode": {
    "name": "ipython",
    "version": 3
   },
   "file_extension": ".py",
   "mimetype": "text/x-python",
   "name": "python",
   "nbconvert_exporter": "python",
   "pygments_lexer": "ipython3",
   "version": "3.9.12"
  }
 },
 "nbformat": 4,
 "nbformat_minor": 5
}
